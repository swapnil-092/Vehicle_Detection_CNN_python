{
  "nbformat": 4,
  "nbformat_minor": 0,
  "metadata": {
    "colab": {
      "provenance": [],
      "authorship_tag": "ABX9TyNP5+pH0xQbeAZhlij6KsdY",
      "include_colab_link": true
    },
    "kernelspec": {
      "name": "python3",
      "display_name": "Python 3"
    },
    "language_info": {
      "name": "python"
    }
  },
  "cells": [
    {
      "cell_type": "markdown",
      "metadata": {
        "id": "view-in-github",
        "colab_type": "text"
      },
      "source": [
        "<a href=\"https://colab.research.google.com/github/swapnil-092/Vehicle_Detection_CNN_python/blob/main/Vehicles_Detection_using_CNN.ipynb\" target=\"_parent\"><img src=\"https://colab.research.google.com/assets/colab-badge.svg\" alt=\"Open In Colab\"/></a>"
      ]
    },
    {
      "cell_type": "code",
      "execution_count": 9,
      "metadata": {
        "id": "XvoLzh-SVE5R"
      },
      "outputs": [],
      "source": [
        "import tensorflow as tf\n",
        "import cv2\n",
        "from tensorflow.keras import datasets, layers, models\n",
        "import matplotlib.pyplot as plt\n",
        "import numpy as np"
      ]
    },
    {
      "cell_type": "code",
      "source": [
        "import zipfile\n",
        "import os\n",
        "\n",
        "os.environ['KAGGLE_CONFIG_DIR'] = \"/content\""
      ],
      "metadata": {
        "id": "DG4bS0FUVHXB"
      },
      "execution_count": 10,
      "outputs": []
    },
    {
      "cell_type": "code",
      "source": [
        "!kaggle datasets download -d brsdincer/vehicle-detection-image-set"
      ],
      "metadata": {
        "colab": {
          "base_uri": "https://localhost:8080/"
        },
        "id": "gLjXjsy_VXrl",
        "outputId": "00d2310b-2e40-4bb9-b27a-603218793614"
      },
      "execution_count": 11,
      "outputs": [
        {
          "output_type": "stream",
          "name": "stdout",
          "text": [
            "Warning: Your Kaggle API key is readable by other users on this system! To fix this, you can run 'chmod 600 /content/kaggle.json'\n",
            "Downloading vehicle-detection-image-set.zip to /content\n",
            " 91% 109M/119M [00:01<00:00, 114MB/s] \n",
            "100% 119M/119M [00:01<00:00, 110MB/s]\n"
          ]
        }
      ]
    },
    {
      "cell_type": "code",
      "source": [
        "zip_ref = zipfile.ZipFile('/content/vehicle-detection-image-set.zip', 'r') #Opens the zip file in read mode\n",
        "zip_ref.extractall('/content') #Extracts the files into the /tmp folder\n",
        "zip_ref.close()"
      ],
      "metadata": {
        "id": "FI3JrrYLVYYJ"
      },
      "execution_count": 12,
      "outputs": []
    },
    {
      "cell_type": "code",
      "source": [
        "print(os.listdir('/content/data/'))"
      ],
      "metadata": {
        "colab": {
          "base_uri": "https://localhost:8080/"
        },
        "id": "o8SrFlYGVgWC",
        "outputId": "0648b82a-4927-4c9c-bda8-6f20d50b03bf"
      },
      "execution_count": 13,
      "outputs": [
        {
          "output_type": "stream",
          "name": "stdout",
          "text": [
            "['non-vehicles', 'vehicles']\n"
          ]
        }
      ]
    },
    {
      "cell_type": "code",
      "source": [
        "dataset_dir = '/content/data/'\n",
        "# Load the dataset and labels\n",
        "X = []\n",
        "y = []\n",
        "for folder_name in os.listdir(dataset_dir):\n",
        "    if folder_name.startswith('non-vehicle'):\n",
        "        label = 0  # non-vehicle class label\n",
        "    else:\n",
        "        label = 1  # vehicle class label\n",
        "\n",
        "    folder_path = os.path.join(dataset_dir, folder_name)\n",
        "    for filename in os.listdir(folder_path):\n",
        "        image_path = os.path.join(folder_path, filename)\n",
        "        image = cv2.imread(image_path)\n",
        "        image = cv2.resize(image, (32, 32))  # resize image to a fixed size\n",
        "        X.append(image)\n",
        "        y.append(label)"
      ],
      "metadata": {
        "id": "tlpHL7K0Zyix"
      },
      "execution_count": 33,
      "outputs": []
    },
    {
      "cell_type": "code",
      "source": [
        "X = np.array(X)\n",
        "y = np.array(y)"
      ],
      "metadata": {
        "id": "pgYdZOLgj7OT"
      },
      "execution_count": 34,
      "outputs": []
    },
    {
      "cell_type": "code",
      "source": [
        "from sklearn.model_selection import train_test_split\n",
        "X_train, X_test, y_train, y_test = train_test_split(X, y, test_size=0.2, random_state=42)"
      ],
      "metadata": {
        "id": "IJlZpHl_kEtt"
      },
      "execution_count": 35,
      "outputs": []
    },
    {
      "cell_type": "code",
      "source": [
        "X_train = X_train/ 255.0\n",
        "X_test = X_test / 255.0"
      ],
      "metadata": {
        "id": "4zAdi_BRmFaZ"
      },
      "execution_count": 36,
      "outputs": []
    },
    {
      "cell_type": "code",
      "source": [
        "X_train.shape"
      ],
      "metadata": {
        "colab": {
          "base_uri": "https://localhost:8080/"
        },
        "id": "HAnag_IcmJJ2",
        "outputId": "44cabeb3-1bfe-43c2-c346-7025d53aa41b"
      },
      "execution_count": 37,
      "outputs": [
        {
          "output_type": "execute_result",
          "data": {
            "text/plain": [
              "(14208, 32, 32, 3)"
            ]
          },
          "metadata": {},
          "execution_count": 37
        }
      ]
    },
    {
      "cell_type": "code",
      "source": [
        "classes = ['Non-vehicles','Vehicles']"
      ],
      "metadata": {
        "id": "-BpoRlAUoB8B"
      },
      "execution_count": 38,
      "outputs": []
    },
    {
      "cell_type": "code",
      "source": [
        "y_train[:5]"
      ],
      "metadata": {
        "colab": {
          "base_uri": "https://localhost:8080/"
        },
        "id": "1GTCIQg_qJU-",
        "outputId": "0cf2fe94-151a-44cf-87a4-fed2287f706b"
      },
      "execution_count": 39,
      "outputs": [
        {
          "output_type": "execute_result",
          "data": {
            "text/plain": [
              "array([1, 0, 1, 0, 1])"
            ]
          },
          "metadata": {},
          "execution_count": 39
        }
      ]
    },
    {
      "cell_type": "code",
      "source": [
        "y_train = y_train.reshape(-1,)\n",
        "y_train[:5]\n"
      ],
      "metadata": {
        "colab": {
          "base_uri": "https://localhost:8080/"
        },
        "id": "3Hku8FmVqRRV",
        "outputId": "64e9efd3-2e28-4857-fa54-b8998fe8618b"
      },
      "execution_count": 40,
      "outputs": [
        {
          "output_type": "execute_result",
          "data": {
            "text/plain": [
              "array([1, 0, 1, 0, 1])"
            ]
          },
          "metadata": {},
          "execution_count": 40
        }
      ]
    },
    {
      "cell_type": "code",
      "source": [
        "y_test = y_test.reshape(-1,)"
      ],
      "metadata": {
        "id": "a-kGQkhZqTN9"
      },
      "execution_count": 41,
      "outputs": []
    },
    {
      "cell_type": "code",
      "source": [
        "classes = ['Non-vehicles','Vehicles']\n",
        "\n",
        "def plot_sample(X, y, index):\n",
        "    plt.figure(figsize = (15,2))\n",
        "    plt.imshow(X[index])\n",
        "    plt.xlabel(classes[y[index]])"
      ],
      "metadata": {
        "id": "Ng8mygRDqYx5"
      },
      "execution_count": 42,
      "outputs": []
    },
    {
      "cell_type": "code",
      "source": [
        "plot_sample(X_train, y_train, 0)\n"
      ],
      "metadata": {
        "colab": {
          "base_uri": "https://localhost:8080/",
          "height": 237
        },
        "id": "-Au_SrIYqfRS",
        "outputId": "8d025ff5-a116-4924-e829-215575ee25bc"
      },
      "execution_count": 43,
      "outputs": [
        {
          "output_type": "display_data",
          "data": {
            "text/plain": [
              "<Figure size 1500x200 with 1 Axes>"
            ],
            "image/png": "[encoded data removed]"
          },
          "metadata": {}
        }
      ]
    },
    {
      "cell_type": "code",
      "source": [
        "plot_sample(X_train, y_train, 1)"
      ],
      "metadata": {
        "colab": {
          "base_uri": "https://localhost:8080/",
          "height": 237
        },
        "id": "rmeOvrKOqinm",
        "outputId": "1f7c987b-ff10-40ec-ba3a-774a7c198f18"
      },
      "execution_count": 44,
      "outputs": [
        {
          "output_type": "display_data",
          "data": {
            "text/plain": [
              "<Figure size 1500x200 with 1 Axes>"
            ],
            "image/png": "[encoded data removed]"
          },
          "metadata": {}
        }
      ]
    },
    {
      "cell_type": "code",
      "source": [
        "plot_sample(X_train, y_train, 2)"
      ],
      "metadata": {
        "colab": {
          "base_uri": "https://localhost:8080/",
          "height": 237
        },
        "id": "0xj1f5phq4-1",
        "outputId": "652d7f60-4132-4eb4-af15-ad37af640b2b"
      },
      "execution_count": 45,
      "outputs": [
        {
          "output_type": "display_data",
          "data": {
            "text/plain": [
              "<Figure size 1500x200 with 1 Axes>"
            ],
            "image/png": "[encoded data removed]"
          },
          "metadata": {}
        }
      ]
    },
    {
      "cell_type": "code",
      "source": [
        "ann = models.Sequential([\n",
        "        layers.Flatten(input_shape=(32,32,3)),\n",
        "        layers.Dense(3000, activation='relu'),\n",
        "        layers.Dense(1000, activation='relu'),\n",
        "        layers.Dense(10, activation='softmax')\n",
        "    ])\n",
        "\n",
        "ann.compile(optimizer='SGD',\n",
        "              loss='sparse_categorical_crossentropy',\n",
        "              metrics=['accuracy'])\n",
        "\n",
        "ann.fit(X_train, y_train, epochs=5)"
      ],
      "metadata": {
        "colab": {
          "base_uri": "https://localhost:8080/"
        },
        "id": "zSAFpyb9q891",
        "outputId": "f1874839-eb81-487a-f3aa-483cf831d0ab"
      },
      "execution_count": 55,
      "outputs": [
        {
          "output_type": "stream",
          "name": "stdout",
          "text": [
            "Epoch 1/5\n",
            "444/444 [==============================] - 38s 84ms/step - loss: 0.3756 - accuracy: 0.8464\n",
            "Epoch 2/5\n",
            "444/444 [==============================] - 37s 83ms/step - loss: 0.2506 - accuracy: 0.9003\n",
            "Epoch 3/5\n",
            "444/444 [==============================] - 38s 86ms/step - loss: 0.2100 - accuracy: 0.9165\n",
            "Epoch 4/5\n",
            "444/444 [==============================] - 38s 86ms/step - loss: 0.1866 - accuracy: 0.9262\n",
            "Epoch 5/5\n",
            "444/444 [==============================] - 38s 86ms/step - loss: 0.1622 - accuracy: 0.9411\n"
          ]
        },
        {
          "output_type": "execute_result",
          "data": {
            "text/plain": [
              "<keras.callbacks.History at 0x7faae379a530>"
            ]
          },
          "metadata": {},
          "execution_count": 55
        }
      ]
    },
    {
      "cell_type": "code",
      "source": [
        "from sklearn.metrics import confusion_matrix , classification_report\n",
        "import numpy as np\n",
        "y_pred = ann.predict(X_test)\n",
        "y_pred_classes = [np.argmax(element) for element in y_pred]\n",
        "\n",
        "print(\"Classification Report: \\n\", classification_report(y_test, y_pred_classes))"
      ],
      "metadata": {
        "colab": {
          "base_uri": "https://localhost:8080/"
        },
        "id": "CXNhUYDlrL4a",
        "outputId": "adfeb0fc-0ef9-4d2b-ee93-10a7258e7079"
      },
      "execution_count": 56,
      "outputs": [
        {
          "output_type": "stream",
          "name": "stdout",
          "text": [
            "111/111 [==============================] - 2s 22ms/step\n",
            "Classification Report: \n",
            "               precision    recall  f1-score   support\n",
            "\n",
            "           0       0.95      0.95      0.95      1790\n",
            "           1       0.95      0.95      0.95      1762\n",
            "\n",
            "    accuracy                           0.95      3552\n",
            "   macro avg       0.95      0.95      0.95      3552\n",
            "weighted avg       0.95      0.95      0.95      3552\n",
            "\n"
          ]
        }
      ]
    },
    {
      "cell_type": "code",
      "source": [
        "cnn = models.Sequential([\n",
        "    layers.Conv2D(filters=32, kernel_size=(3,3),activation = 'relu', input_shape =(32,32,3)),\n",
        "    layers.MaxPooling2D((2,2)),\n",
        "\n",
        "    layers.Conv2D(filters=64, kernel_size=(3,3), activation = 'relu'),\n",
        "    layers.MaxPooling2D((2,2)),\n",
        "\n",
        "    layers.Flatten(),\n",
        "    layers.Dense(64, activation = 'relu'),\n",
        "    layers.Dense(10, activation = 'softmax')\n",
        "])"
      ],
      "metadata": {
        "id": "0zacR8iat3_m"
      },
      "execution_count": 124,
      "outputs": []
    },
    {
      "cell_type": "code",
      "source": [
        "cnn.compile(optimizer = 'adam',\n",
        "            loss = 'sparse_categorical_crossentropy',\n",
        "            metrics = ['accuracy'])"
      ],
      "metadata": {
        "id": "0FAGcerLIbCH"
      },
      "execution_count": 125,
      "outputs": []
    },
    {
      "cell_type": "code",
      "source": [
        "history = cnn.fit(X_train,y_train,epochs = 10, validation_data=(X_test,y_test))"
      ],
      "metadata": {
        "colab": {
          "base_uri": "https://localhost:8080/"
        },
        "id": "KBhuQvwwIscP",
        "outputId": "07bdbe11-5015-4da0-dcca-40241fecfafa"
      },
      "execution_count": 126,
      "outputs": [
        {
          "output_type": "stream",
          "name": "stdout",
          "text": [
            "Epoch 1/10\n",
            "444/444 [==============================] - 20s 43ms/step - loss: 0.2581 - accuracy: 0.8962 - val_loss: 0.1086 - val_accuracy: 0.9651\n",
            "Epoch 2/10\n",
            "444/444 [==============================] - 20s 45ms/step - loss: 0.0921 - accuracy: 0.9682 - val_loss: 0.0725 - val_accuracy: 0.9780\n",
            "Epoch 3/10\n",
            "444/444 [==============================] - 19s 42ms/step - loss: 0.0618 - accuracy: 0.9773 - val_loss: 0.0544 - val_accuracy: 0.9809\n",
            "Epoch 4/10\n",
            "444/444 [==============================] - 21s 48ms/step - loss: 0.0480 - accuracy: 0.9842 - val_loss: 0.0532 - val_accuracy: 0.9811\n",
            "Epoch 5/10\n",
            "444/444 [==============================] - 19s 42ms/step - loss: 0.0375 - accuracy: 0.9870 - val_loss: 0.0424 - val_accuracy: 0.9856\n",
            "Epoch 6/10\n",
            "444/444 [==============================] - 22s 49ms/step - loss: 0.0302 - accuracy: 0.9892 - val_loss: 0.0348 - val_accuracy: 0.9865\n",
            "Epoch 7/10\n",
            "444/444 [==============================] - 19s 43ms/step - loss: 0.0246 - accuracy: 0.9913 - val_loss: 0.0362 - val_accuracy: 0.9893\n",
            "Epoch 8/10\n",
            "444/444 [==============================] - 20s 45ms/step - loss: 0.0193 - accuracy: 0.9939 - val_loss: 0.0277 - val_accuracy: 0.9887\n",
            "Epoch 9/10\n",
            "444/444 [==============================] - 19s 43ms/step - loss: 0.0216 - accuracy: 0.9918 - val_loss: 0.0228 - val_accuracy: 0.9913\n",
            "Epoch 10/10\n",
            "444/444 [==============================] - 20s 46ms/step - loss: 0.0197 - accuracy: 0.9927 - val_loss: 0.0859 - val_accuracy: 0.9707\n"
          ]
        }
      ]
    },
    {
      "cell_type": "code",
      "source": [
        "cnn.evaluate(X_test,y_test)"
      ],
      "metadata": {
        "colab": {
          "base_uri": "https://localhost:8080/"
        },
        "id": "FmMoxxzRI2yH",
        "outputId": "f9ee6955-5acb-4040-c7ca-712782ec580b"
      },
      "execution_count": 127,
      "outputs": [
        {
          "output_type": "stream",
          "name": "stdout",
          "text": [
            "111/111 [==============================] - 1s 10ms/step - loss: 0.0859 - accuracy: 0.9707\n"
          ]
        },
        {
          "output_type": "execute_result",
          "data": {
            "text/plain": [
              "[0.08586093783378601, 0.9707207083702087]"
            ]
          },
          "metadata": {},
          "execution_count": 127
        }
      ]
    },
    {
      "cell_type": "code",
      "source": [
        "plot_sample(X_test,y_test,10)"
      ],
      "metadata": {
        "colab": {
          "base_uri": "https://localhost:8080/",
          "height": 237
        },
        "id": "FrNOnpPMLt6t",
        "outputId": "1be5f527-2c77-4906-bf07-d794350269c5"
      },
      "execution_count": 128,
      "outputs": [
        {
          "output_type": "display_data",
          "data": {
            "text/plain": [
              "<Figure size 1500x200 with 1 Axes>"
            ],
            "image/png": "[encoded data removed]"
          },
          "metadata": {}
        }
      ]
    },
    {
      "cell_type": "code",
      "source": [
        "plot_sample(X_test,y_test,4)"
      ],
      "metadata": {
        "colab": {
          "base_uri": "https://localhost:8080/",
          "height": 237
        },
        "id": "ApoOD3GdNu8I",
        "outputId": "c08d2578-9aed-4203-8c46-7f4a9a7dcc2a"
      },
      "execution_count": 129,
      "outputs": [
        {
          "output_type": "display_data",
          "data": {
            "text/plain": [
              "<Figure size 1500x200 with 1 Axes>"
            ],
            "image/png": "[encoded data removed]"
          },
          "metadata": {}
        }
      ]
    },
    {
      "cell_type": "code",
      "source": [
        "y_pred = cnn.predict(X_test)\n",
        "y_pred[:10]"
      ],
      "metadata": {
        "colab": {
          "base_uri": "https://localhost:8080/"
        },
        "id": "FZjrwHjXNFIj",
        "outputId": "70f299fc-61a9-479e-9005-298dcc85dd1b"
      },
      "execution_count": 130,
      "outputs": [
        {
          "output_type": "stream",
          "name": "stdout",
          "text": [
            "111/111 [==============================] - 1s 10ms/step\n"
          ]
        },
        {
          "output_type": "execute_result",
          "data": {
            "text/plain": [
              "array([[1.0176750e-05, 9.9998981e-01, 6.5071776e-10, 5.7580501e-10,\n",
              "        3.4836805e-09, 7.8749212e-09, 2.2902118e-09, 1.0407765e-09,\n",
              "        8.0988425e-09, 4.8863864e-09],\n",
              "       [7.4113855e-06, 9.9999255e-01, 8.5275433e-11, 2.2589203e-10,\n",
              "        4.0658896e-10, 6.5153177e-10, 2.4443020e-10, 7.3957847e-11,\n",
              "        3.8474518e-10, 4.4735879e-10],\n",
              "       [1.2875620e-07, 9.9999982e-01, 6.0140288e-13, 2.5129039e-13,\n",
              "        6.1984558e-12, 2.7728733e-11, 4.1390281e-12, 2.0361540e-12,\n",
              "        3.3843182e-11, 1.4577218e-11],\n",
              "       [9.9999994e-01, 6.3353749e-12, 1.0351499e-14, 2.4849380e-15,\n",
              "        3.7429912e-15, 1.5206101e-14, 9.3852513e-15, 1.5573199e-15,\n",
              "        7.5799081e-15, 1.3102497e-15],\n",
              "       [9.9647355e-01, 3.5093566e-03, 2.3163818e-06, 1.0732440e-06,\n",
              "        1.5203232e-06, 3.8002624e-06, 3.3577937e-06, 1.0924567e-06,\n",
              "        1.8212760e-06, 2.0635755e-06],\n",
              "       [9.9999779e-01, 2.1145675e-06, 1.8298389e-09, 8.8784119e-10,\n",
              "        4.9755050e-10, 1.7678802e-09, 6.6668571e-10, 3.4393263e-10,\n",
              "        6.8237460e-10, 5.5362293e-10],\n",
              "       [9.9999529e-01, 4.7064004e-06, 3.3235574e-11, 4.7094596e-11,\n",
              "        1.4933773e-11, 3.5420004e-11, 8.0242431e-11, 5.8702774e-12,\n",
              "        1.0443227e-11, 1.1303241e-11],\n",
              "       [2.8043290e-04, 9.9971604e-01, 1.6040028e-07, 1.2551622e-07,\n",
              "        3.5388035e-07, 9.5011222e-07, 2.3278639e-07, 1.7393197e-07,\n",
              "        7.5441426e-07, 7.6786444e-07],\n",
              "       [1.2818856e-07, 9.9999982e-01, 2.3283998e-13, 2.2608038e-13,\n",
              "        2.7750148e-12, 7.2071819e-12, 1.4423110e-12, 4.9565251e-13,\n",
              "        5.9909287e-12, 4.4066448e-12],\n",
              "       [5.3371117e-11, 9.9999994e-01, 2.5520259e-19, 2.3268836e-19,\n",
              "        1.1524899e-17, 4.6497903e-17, 5.4918676e-18, 1.0046325e-18,\n",
              "        4.5337346e-17, 1.8648830e-17]], dtype=float32)"
            ]
          },
          "metadata": {},
          "execution_count": 130
        }
      ]
    },
    {
      "cell_type": "code",
      "source": [
        "y_classes = [np.argmax(element) for element in y_pred]\n",
        "y_classes[:10]"
      ],
      "metadata": {
        "colab": {
          "base_uri": "https://localhost:8080/"
        },
        "id": "KI3ue4GPL4VK",
        "outputId": "053eb238-eb2b-4c7b-b381-d82ac694fdf3"
      },
      "execution_count": 131,
      "outputs": [
        {
          "output_type": "execute_result",
          "data": {
            "text/plain": [
              "[1, 1, 1, 0, 0, 0, 0, 1, 1, 1]"
            ]
          },
          "metadata": {},
          "execution_count": 131
        }
      ]
    },
    {
      "cell_type": "code",
      "source": [
        "classes[y_classes[10]]"
      ],
      "metadata": {
        "colab": {
          "base_uri": "https://localhost:8080/",
          "height": 35
        },
        "id": "PXCEB3MeME7Y",
        "outputId": "a845c1ab-6270-4bb9-a140-ef233ccb7fdf"
      },
      "execution_count": 132,
      "outputs": [
        {
          "output_type": "execute_result",
          "data": {
            "text/plain": [
              "'Vehicles'"
            ],
            "application/vnd.google.colaboratory.intrinsic+json": {
              "type": "string"
            }
          },
          "metadata": {},
          "execution_count": 132
        }
      ]
    },
    {
      "cell_type": "code",
      "source": [
        "classes[y_classes[4]]"
      ],
      "metadata": {
        "colab": {
          "base_uri": "https://localhost:8080/",
          "height": 35
        },
        "id": "1PxkHRmyNjhb",
        "outputId": "333b726a-1214-43dd-825e-98daaafb8633"
      },
      "execution_count": 133,
      "outputs": [
        {
          "output_type": "execute_result",
          "data": {
            "text/plain": [
              "'Non-vehicles'"
            ],
            "application/vnd.google.colaboratory.intrinsic+json": {
              "type": "string"
            }
          },
          "metadata": {},
          "execution_count": 133
        }
      ]
    },
    {
      "cell_type": "code",
      "source": [
        "print(\"Classification Report: \\n\", classification_report(y_test,y_classes))"
      ],
      "metadata": {
        "colab": {
          "base_uri": "https://localhost:8080/"
        },
        "id": "NOfNNq-bNswZ",
        "outputId": "43c0112f-c099-42d8-b1db-4183065ef1a3"
      },
      "execution_count": 134,
      "outputs": [
        {
          "output_type": "stream",
          "name": "stdout",
          "text": [
            "Classification Report: \n",
            "               precision    recall  f1-score   support\n",
            "\n",
            "           0       0.99      0.95      0.97      1790\n",
            "           1       0.95      0.99      0.97      1762\n",
            "\n",
            "    accuracy                           0.97      3552\n",
            "   macro avg       0.97      0.97      0.97      3552\n",
            "weighted avg       0.97      0.97      0.97      3552\n",
            "\n"
          ]
        }
      ]
    },
    {
      "cell_type": "code",
      "source": [
        "plt.plot(history.history['accuracy'])\n",
        "plt.plot(history.history['val_accuracy'])\n",
        "plt.title('Model Accuracy')\n",
        "plt.xlabel('Epoch')\n",
        "plt.ylabel('Accuracy')\n",
        "plt.legend(['Train', 'Validation'], loc='upper left')\n",
        "plt.show()"
      ],
      "metadata": {
        "colab": {
          "base_uri": "https://localhost:8080/",
          "height": 472
        },
        "id": "RsFdllMKW2eW",
        "outputId": "bdcdae4f-7c8b-4c26-d6d9-f5b40d73d856"
      },
      "execution_count": 135,
      "outputs": [
        {
          "output_type": "display_data",
          "data": {
            "text/plain": [
              "<Figure size 640x480 with 1 Axes>"
            ],
            "image/png": "[encoded data removed]"
          },
          "metadata": {}
        }
      ]
    },
    {
      "cell_type": "code",
      "source": [
        "plt.plot(history.history['loss'])\n",
        "plt.plot(history.history['val_loss'])\n",
        "plt.title('Model Accuracy')\n",
        "plt.xlabel('Epoch')\n",
        "plt.ylabel('Loss')\n",
        "plt.legend(['Train', 'Validation'], loc='upper left')\n",
        "plt.show()"
      ],
      "metadata": {
        "colab": {
          "base_uri": "https://localhost:8080/",
          "height": 472
        },
        "id": "CoqdrsPQW643",
        "outputId": "8dc3131e-590b-4683-fd1a-2a3d0c2592e2"
      },
      "execution_count": 137,
      "outputs": [
        {
          "output_type": "display_data",
          "data": {
            "text/plain": [
              "<Figure size 640x480 with 1 Axes>"
            ],
            "image/png": "[encoded data removed]"
          },
          "metadata": {}
        }
      ]
    },
    {
      "cell_type": "code",
      "source": [],
      "metadata": {
        "id": "rLOLQ7rbXCTo"
      },
      "execution_count": null,
      "outputs": []
    }
  ]
}